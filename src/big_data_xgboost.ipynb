{
 "cells": [
  {
   "cell_type": "code",
   "execution_count": 3,
   "metadata": {},
   "outputs": [
    {
     "name": "stdout",
     "output_type": "stream",
     "text": [
      "(455, 20)\n",
      "average value of the label is: 3.97679972621706\n",
      "(455,)\n"
     ]
    }
   ],
   "source": [
    "import xgboost as xgb\n",
    "from sklearn.metrics import mean_squared_error, r2_score\n",
    "\n",
    "from XGBoost import *\n",
    "\n",
    "fin_dir = \"../data/raw/fin_data\"\n",
    "P = list([\"Q1\", \"Q2\", \"Q3\"])\n",
    "X, keys = data_processing(fin_dir, P)\n",
    "Y = load_labels(fin_dir, P)\n",
    "print(Y.shape)\n",
    "#print(Y)"
   ]
  },
  {
   "cell_type": "code",
   "execution_count": 4,
   "metadata": {},
   "outputs": [
    {
     "name": "stdout",
     "output_type": "stream",
     "text": [
      "(304, 20)\n",
      "(304,)\n",
      "(151, 20)\n",
      "(151,)\n"
     ]
    }
   ],
   "source": [
    "# Split the data\n",
    "X_train, X_test, Y_train, Y_test = \\\n",
    "train_test_split(X, Y, test_size=0.33, random_state=30)\n",
    "\n",
    "print(X_train.shape)\n",
    "print(Y_train.shape)\n",
    "print(X_test.shape)\n",
    "print(Y_test.shape)"
   ]
  },
  {
   "cell_type": "code",
   "execution_count": 5,
   "metadata": {},
   "outputs": [
    {
     "name": "stdout",
     "output_type": "stream",
     "text": [
      "RMSE: 0.662568\n",
      "0.4980174693327362\n",
      "0.4980174693327363\n",
      "(Y_test, Y_pred) = (3.555103024570487, 3.422605276107788)\n",
      "(Y_test, Y_pred) = (4.085740039957536, 3.8574228286743164)\n",
      "(Y_test, Y_pred) = (3.6589236927562947, 3.8574228286743164)\n",
      "(Y_test, Y_pred) = (3.4707360096184683, 3.5476295948028564)\n",
      "(Y_test, Y_pred) = (3.6588841748314853, 3.266361951828003)\n",
      "(Y_test, Y_pred) = (5.8971581469743, 5.2126264572143555)\n",
      "(Y_test, Y_pred) = (5.859820552348716, 5.400866985321045)\n",
      "(Y_test, Y_pred) = (3.8931293861536185, 3.7622759342193604)\n",
      "(Y_test, Y_pred) = (3.8298121109954506, 3.5476295948028564)\n",
      "(Y_test, Y_pred) = (5.430320964391666, 5.024190902709961)\n",
      "(Y_test, Y_pred) = (4.1047808713525225, 3.7622759342193604)\n",
      "(Y_test, Y_pred) = (9.045929018789144, 3.8227615356445312)\n",
      "(Y_test, Y_pred) = (4.162516755707394, 3.7622759342193604)\n",
      "(Y_test, Y_pred) = (3.4980175565339247, 3.5476295948028564)\n",
      "(Y_test, Y_pred) = (5.521564739038707, 5.400866985321045)\n",
      "(Y_test, Y_pred) = (4.40333898187723, 3.8574228286743164)\n",
      "(Y_test, Y_pred) = (4.459765590099926, 4.7517571449279785)\n",
      "(Y_test, Y_pred) = (3.663073579277287, 3.5476295948028564)\n",
      "(Y_test, Y_pred) = (3.99243698397414, 3.7783799171447754)\n",
      "(Y_test, Y_pred) = (4.341790532949422, 4.227829933166504)\n"
     ]
    }
   ],
   "source": [
    "# Train XGBoost model\n",
    "from sklearn.metrics import r2_score\n",
    "\n",
    "#xg_reg = xgb.XGBRegressor(objective ='reg:linear', colsample_bytree = 0.2, learning_rate = 0.4, max_depth = 10, alpha = 8, n_estimators = 10)\n",
    "xg_reg = xgb.XGBRegressor(objective ='reg:squarederror', colsample_bytree = 0.8, learning_rate = 0.3, max_depth = 10, alpha = 6, n_estimators = 10)\n",
    "\n",
    "\n",
    "\n",
    "xg_reg.fit(X_train, Y_train)\n",
    "preds = xg_reg.predict(X_test)\n",
    "#print(preds)\n",
    "\n",
    "rmse = np.sqrt(mean_squared_error(Y_test, preds))\n",
    "print(\"RMSE: %f\" % (rmse))\n",
    "\n",
    "#print(Y_test)\n",
    "score = xg_reg.score(X_test, Y_test)\n",
    "\n",
    "print(score)\n",
    "r2 = r2_score(Y_test, preds)\n",
    "print(r2)\n",
    "\n",
    "length = min(20, len(preds))\n",
    "for i in range(0,length):\n",
    "    print('(Y_test, Y_pred) = ({0}, {1})'.format(Y_test[i], preds[i]))\n"
   ]
  },
  {
   "cell_type": "code",
   "execution_count": 82,
   "metadata": {},
   "outputs": [
    {
     "name": "stdout",
     "output_type": "stream",
     "text": [
      "(49, 20)\n",
      "[4.012588  4.0172806 3.7314239 4.1665616 3.7644901 3.582143  3.75254\n",
      " 3.8304596 3.582143  3.736117 ]\n"
     ]
    }
   ],
   "source": [
    "fin_dir = \"../data/raw/fin_data\"\n",
    "P = list([\"Q4\"])\n",
    "X, keys = data_processing(fin_dir, P)\n",
    "#Y = load_labels(fin_dir, P)\n",
    "#print(Y.shape)\n",
    "\n",
    "preds = xg_reg.predict(X)\n",
    "print(preds[:10])\n"
   ]
  },
  {
   "cell_type": "code",
   "execution_count": 10,
   "metadata": {},
   "outputs": [
    {
     "name": "stdout",
     "output_type": "stream",
     "text": [
      "[1 2 3 1 2]\n"
     ]
    }
   ],
   "source": [
    "arr = np.array([1, 2, 3])\n",
    "arr = np.append(arr, [1, 2])\n",
    "print(arr)"
   ]
  },
  {
   "cell_type": "code",
   "execution_count": null,
   "metadata": {},
   "outputs": [],
   "source": []
  }
 ],
 "metadata": {
  "kernelspec": {
   "display_name": "Python 3",
   "language": "python",
   "name": "python3"
  },
  "language_info": {
   "codemirror_mode": {
    "name": "ipython",
    "version": 3
   },
   "file_extension": ".py",
   "mimetype": "text/x-python",
   "name": "python",
   "nbconvert_exporter": "python",
   "pygments_lexer": "ipython3",
   "version": "3.7.3"
  }
 },
 "nbformat": 4,
 "nbformat_minor": 2
}
