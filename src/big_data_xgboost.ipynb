{
 "cells": [
  {
   "cell_type": "code",
   "execution_count": 78,
   "metadata": {},
   "outputs": [
    {
     "name": "stdout",
     "output_type": "stream",
     "text": [
      "(455, 20)\n",
      "average value of the label is: 3.97679972621706\n",
      "(455,)\n"
     ]
    }
   ],
   "source": [
    "import xgboost as xgb\n",
    "from sklearn.metrics import mean_squared_error, r2_score\n",
    "\n",
    "from XGBoost import *\n",
    "\n",
    "fin_dir = \"../data/raw/fin_data\"\n",
    "P = list([\"Q1\", \"Q2\", \"Q3\"])\n",
    "X = data_processing(fin_dir, P)\n",
    "Y = load_labels(fin_dir, P)\n",
    "print(Y.shape)\n",
    "#print(Y)"
   ]
  },
  {
   "cell_type": "code",
   "execution_count": 79,
   "metadata": {},
   "outputs": [
    {
     "name": "stdout",
     "output_type": "stream",
     "text": [
      "(304, 20)\n",
      "(304,)\n",
      "(151, 20)\n",
      "(151,)\n"
     ]
    }
   ],
   "source": [
    "# Split the data\n",
    "X_train, X_test, Y_train, Y_test = \\\n",
    "train_test_split(X, Y, test_size=0.33, random_state=30)\n",
    "\n",
    "print(X_train.shape)\n",
    "print(Y_train.shape)\n",
    "print(X_test.shape)\n",
    "print(Y_test.shape)"
   ]
  },
  {
   "cell_type": "code",
   "execution_count": 80,
   "metadata": {},
   "outputs": [
    {
     "name": "stdout",
     "output_type": "stream",
     "text": [
      "RMSE: 0.991263\n",
      "-0.12358615854650677\n",
      "-0.12358615854650679\n",
      "(Y_test, Y_pred) = (3.555103024570487, 4.04686164855957)\n",
      "(Y_test, Y_pred) = (4.085740039957536, 3.658093214035034)\n",
      "(Y_test, Y_pred) = (3.6589236927562947, 4.017280578613281)\n",
      "(Y_test, Y_pred) = (3.4707360096184683, 3.7766664028167725)\n",
      "(Y_test, Y_pred) = (3.6588841748314853, 3.5592763423919678)\n",
      "(Y_test, Y_pred) = (5.8971581469743, 3.5821430683135986)\n",
      "(Y_test, Y_pred) = (5.859820552348716, 4.017280578613281)\n",
      "(Y_test, Y_pred) = (3.8931293861536185, 3.8075928688049316)\n",
      "(Y_test, Y_pred) = (3.8298121109954506, 4.051335334777832)\n",
      "(Y_test, Y_pred) = (5.430320964391666, 4.154611587524414)\n",
      "(Y_test, Y_pred) = (4.1047808713525225, 4.0229620933532715)\n",
      "(Y_test, Y_pred) = (9.045929018789144, 4.017280578613281)\n",
      "(Y_test, Y_pred) = (4.162516755707394, 3.322690963745117)\n",
      "(Y_test, Y_pred) = (3.4980175565339247, 4.017280578613281)\n",
      "(Y_test, Y_pred) = (5.521564739038707, 3.8623268604278564)\n",
      "(Y_test, Y_pred) = (4.40333898187723, 4.304125785827637)\n",
      "(Y_test, Y_pred) = (4.459765590099926, 3.736116886138916)\n",
      "(Y_test, Y_pred) = (3.663073579277287, 3.8349337577819824)\n",
      "(Y_test, Y_pred) = (3.99243698397414, 3.984316349029541)\n",
      "(Y_test, Y_pred) = (4.341790532949422, 3.4766647815704346)\n"
     ]
    }
   ],
   "source": [
    "# Train XGBoost model\n",
    "from sklearn.metrics import r2_score\n",
    "\n",
    "#xg_reg = xgb.XGBRegressor(objective ='reg:linear', colsample_bytree = 0.2, learning_rate = 0.4, max_depth = 10, alpha = 8, n_estimators = 10)\n",
    "xg_reg = xgb.XGBRegressor(objective ='reg:squarederror', colsample_bytree = 0.8, learning_rate = 0.3, max_depth = 10, alpha = 6, n_estimators = 10)\n",
    "\n",
    "\n",
    "\n",
    "xg_reg.fit(X_train, Y_train)\n",
    "preds = xg_reg.predict(X_test)\n",
    "#print(preds)\n",
    "\n",
    "rmse = np.sqrt(mean_squared_error(Y_test, preds))\n",
    "print(\"RMSE: %f\" % (rmse))\n",
    "\n",
    "#print(Y_test)\n",
    "score = xg_reg.score(X_test, Y_test)\n",
    "\n",
    "print(score)\n",
    "r2 = r2_score(Y_test, preds)\n",
    "print(r2)\n",
    "\n",
    "length = min(20, len(preds))\n",
    "for i in range(0,length):\n",
    "    print('(Y_test, Y_pred) = ({0}, {1})'.format(Y_test[i], preds[i]))\n"
   ]
  },
  {
   "cell_type": "code",
   "execution_count": 82,
   "metadata": {},
   "outputs": [
    {
     "name": "stdout",
     "output_type": "stream",
     "text": [
      "(49, 20)\n",
      "[4.012588  4.0172806 3.7314239 4.1665616 3.7644901 3.582143  3.75254\n",
      " 3.8304596 3.582143  3.736117 ]\n"
     ]
    }
   ],
   "source": [
    "fin_dir = \"../data/raw/fin_data\"\n",
    "P = list([\"Q4\"])\n",
    "X = data_processing(fin_dir, P)\n",
    "#Y = load_labels(fin_dir, P)\n",
    "#print(Y.shape)\n",
    "\n",
    "preds = xg_reg.predict(X)\n",
    "print(preds[:10])\n"
   ]
  },
  {
   "cell_type": "code",
   "execution_count": null,
   "metadata": {},
   "outputs": [],
   "source": []
  }
 ],
 "metadata": {
  "kernelspec": {
   "display_name": "Python 3",
   "language": "python",
   "name": "python3"
  },
  "language_info": {
   "codemirror_mode": {
    "name": "ipython",
    "version": 3
   },
   "file_extension": ".py",
   "mimetype": "text/x-python",
   "name": "python",
   "nbconvert_exporter": "python",
   "pygments_lexer": "ipython3",
   "version": "3.7.3"
  }
 },
 "nbformat": 4,
 "nbformat_minor": 2
}
